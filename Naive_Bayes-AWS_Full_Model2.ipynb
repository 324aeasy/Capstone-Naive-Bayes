{
 "cells": [
  {
   "cell_type": "code",
   "execution_count": 1,
   "metadata": {},
   "outputs": [],
   "source": [
    "import nltk\n",
    "import pandas as pd\n",
    "import seaborn as sns\n",
    "import matplotlib.pyplot as plt\n",
    "import pickle\n",
    "\n",
    "%matplotlib inline"
   ]
  },
  {
   "cell_type": "code",
   "execution_count": 7,
   "metadata": {
    "collapsed": true
   },
   "outputs": [
    {
     "name": "stderr",
     "output_type": "stream",
     "text": [
      "C:\\Users\\100707881\\Anaconda3\\lib\\site-packages\\sklearn\\base.py:329: UserWarning: Trying to unpickle estimator CountVectorizer from version 0.19.2 when using version 0.23.1. This might lead to breaking code or invalid results. Use at your own risk.\n",
      "  warnings.warn(\n",
      "C:\\Users\\100707881\\Anaconda3\\lib\\site-packages\\sklearn\\base.py:329: UserWarning: Trying to unpickle estimator TfidfTransformer from version 0.19.2 when using version 0.23.1. This might lead to breaking code or invalid results. Use at your own risk.\n",
      "  warnings.warn(\n",
      "C:\\Users\\100707881\\Anaconda3\\lib\\site-packages\\sklearn\\base.py:329: UserWarning: Trying to unpickle estimator MultinomialNB from version 0.19.2 when using version 0.23.1. This might lead to breaking code or invalid results. Use at your own risk.\n",
      "  warnings.warn(\n",
      "C:\\Users\\100707881\\Anaconda3\\lib\\site-packages\\sklearn\\base.py:329: UserWarning: Trying to unpickle estimator Pipeline from version 0.19.2 when using version 0.23.1. This might lead to breaking code or invalid results. Use at your own risk.\n",
      "  warnings.warn(\n"
     ]
    }
   ],
   "source": [
    "with open('bowtransformer.sav', 'rb') as f:\n",
    "    u = pickle._Unpickler(f)\n",
    "    u.encoding = 'latin1'\n",
    "    bow_transformer = u.load()\n",
    "    \n",
    "with open('tfidf.sav', 'rb') as f:\n",
    "    u = pickle._Unpickler(f)\n",
    "    u.encoding = 'latin1'\n",
    "    tfidf_transformer = u.load()\n",
    "    \n",
    "with open('real_fake_model.sav', 'rb') as f:\n",
    "    u = pickle._Unpickler(f)\n",
    "    u.encoding = 'latin1'\n",
    "    real_fake_model = u.load()\n",
    "    \n",
    "with open('naivepipeline.sav', 'rb') as f:\n",
    "    u = pickle._Unpickler(f)\n",
    "    u.encoding = 'latin1'\n",
    "    pipeline = u.load()"
   ]
  },
  {
   "cell_type": "markdown",
   "metadata": {},
   "source": [
    "## Part 1: Import dataset"
   ]
  },
  {
   "cell_type": "code",
   "execution_count": 2,
   "metadata": {},
   "outputs": [],
   "source": [
    "# Entire dataset\n",
    "news = pd.read_csv('truefake.csv')"
   ]
  },
  {
   "cell_type": "code",
   "execution_count": 8,
   "metadata": {},
   "outputs": [
    {
     "data": {
      "text/html": [
       "<div>\n",
       "<style scoped>\n",
       "    .dataframe tbody tr th:only-of-type {\n",
       "        vertical-align: middle;\n",
       "    }\n",
       "\n",
       "    .dataframe tbody tr th {\n",
       "        vertical-align: top;\n",
       "    }\n",
       "\n",
       "    .dataframe thead th {\n",
       "        text-align: right;\n",
       "    }\n",
       "</style>\n",
       "<table border=\"1\" class=\"dataframe\">\n",
       "  <thead>\n",
       "    <tr style=\"text-align: right;\">\n",
       "      <th></th>\n",
       "      <th>r_or_f</th>\n",
       "      <th>title</th>\n",
       "      <th>text</th>\n",
       "      <th>subject</th>\n",
       "      <th>date</th>\n",
       "    </tr>\n",
       "  </thead>\n",
       "  <tbody>\n",
       "    <tr>\n",
       "      <th>0</th>\n",
       "      <td>Real</td>\n",
       "      <td>As U.S. budget fight looms, Republicans flip t...</td>\n",
       "      <td>WASHINGTON (Reuters) - The head of a conservat...</td>\n",
       "      <td>politicsNews</td>\n",
       "      <td>31-Dec-17</td>\n",
       "    </tr>\n",
       "    <tr>\n",
       "      <th>1</th>\n",
       "      <td>Real</td>\n",
       "      <td>U.S. military to accept transgender recruits o...</td>\n",
       "      <td>WASHINGTON (Reuters) - Transgender people will...</td>\n",
       "      <td>politicsNews</td>\n",
       "      <td>29-Dec-17</td>\n",
       "    </tr>\n",
       "    <tr>\n",
       "      <th>2</th>\n",
       "      <td>Real</td>\n",
       "      <td>Senior U.S. Republican senator: 'Let Mr. Muell...</td>\n",
       "      <td>WASHINGTON (Reuters) - The special counsel inv...</td>\n",
       "      <td>politicsNews</td>\n",
       "      <td>31-Dec-17</td>\n",
       "    </tr>\n",
       "    <tr>\n",
       "      <th>3</th>\n",
       "      <td>Real</td>\n",
       "      <td>FBI Russia probe helped by Australian diplomat...</td>\n",
       "      <td>WASHINGTON (Reuters) - Trump campaign adviser ...</td>\n",
       "      <td>politicsNews</td>\n",
       "      <td>30-Dec-17</td>\n",
       "    </tr>\n",
       "    <tr>\n",
       "      <th>4</th>\n",
       "      <td>Real</td>\n",
       "      <td>Trump wants Postal Service to charge 'much mor...</td>\n",
       "      <td>SEATTLE/WASHINGTON (Reuters) - President Donal...</td>\n",
       "      <td>politicsNews</td>\n",
       "      <td>29-Dec-17</td>\n",
       "    </tr>\n",
       "  </tbody>\n",
       "</table>\n",
       "</div>"
      ],
      "text/plain": [
       "  r_or_f                                              title  \\\n",
       "0   Real  As U.S. budget fight looms, Republicans flip t...   \n",
       "1   Real  U.S. military to accept transgender recruits o...   \n",
       "2   Real  Senior U.S. Republican senator: 'Let Mr. Muell...   \n",
       "3   Real  FBI Russia probe helped by Australian diplomat...   \n",
       "4   Real  Trump wants Postal Service to charge 'much mor...   \n",
       "\n",
       "                                                text       subject       date  \n",
       "0  WASHINGTON (Reuters) - The head of a conservat...  politicsNews  31-Dec-17  \n",
       "1  WASHINGTON (Reuters) - Transgender people will...  politicsNews  29-Dec-17  \n",
       "2  WASHINGTON (Reuters) - The special counsel inv...  politicsNews  31-Dec-17  \n",
       "3  WASHINGTON (Reuters) - Trump campaign adviser ...  politicsNews  30-Dec-17  \n",
       "4  SEATTLE/WASHINGTON (Reuters) - President Donal...  politicsNews  29-Dec-17  "
      ]
     },
     "execution_count": 8,
     "metadata": {},
     "output_type": "execute_result"
    }
   ],
   "source": [
    "news.head()"
   ]
  },
  {
   "cell_type": "code",
   "execution_count": 9,
   "metadata": {},
   "outputs": [
    {
     "data": {
      "text/html": [
       "<div>\n",
       "<style scoped>\n",
       "    .dataframe tbody tr th:only-of-type {\n",
       "        vertical-align: middle;\n",
       "    }\n",
       "\n",
       "    .dataframe tbody tr th {\n",
       "        vertical-align: top;\n",
       "    }\n",
       "\n",
       "    .dataframe thead th {\n",
       "        text-align: right;\n",
       "    }\n",
       "</style>\n",
       "<table border=\"1\" class=\"dataframe\">\n",
       "  <thead>\n",
       "    <tr style=\"text-align: right;\">\n",
       "      <th></th>\n",
       "      <th>count</th>\n",
       "      <th>unique</th>\n",
       "      <th>top</th>\n",
       "      <th>freq</th>\n",
       "    </tr>\n",
       "  </thead>\n",
       "  <tbody>\n",
       "    <tr>\n",
       "      <th>r_or_f</th>\n",
       "      <td>44919</td>\n",
       "      <td>2</td>\n",
       "      <td>Fake</td>\n",
       "      <td>23502</td>\n",
       "    </tr>\n",
       "    <tr>\n",
       "      <th>title</th>\n",
       "      <td>44919</td>\n",
       "      <td>38740</td>\n",
       "      <td>Factbox: Trump fills top jobs for his administ...</td>\n",
       "      <td>14</td>\n",
       "    </tr>\n",
       "    <tr>\n",
       "      <th>text</th>\n",
       "      <td>44919</td>\n",
       "      <td>38657</td>\n",
       "      <td></td>\n",
       "      <td>627</td>\n",
       "    </tr>\n",
       "    <tr>\n",
       "      <th>subject</th>\n",
       "      <td>44898</td>\n",
       "      <td>19</td>\n",
       "      <td>politicsNews</td>\n",
       "      <td>11272</td>\n",
       "    </tr>\n",
       "    <tr>\n",
       "      <th>date</th>\n",
       "      <td>44898</td>\n",
       "      <td>1027</td>\n",
       "      <td>20-Dec-17</td>\n",
       "      <td>197</td>\n",
       "    </tr>\n",
       "  </tbody>\n",
       "</table>\n",
       "</div>"
      ],
      "text/plain": [
       "         count unique                                                top  \\\n",
       "r_or_f   44919      2                                               Fake   \n",
       "title    44919  38740  Factbox: Trump fills top jobs for his administ...   \n",
       "text     44919  38657                                                      \n",
       "subject  44898     19                                       politicsNews   \n",
       "date     44898   1027                                          20-Dec-17   \n",
       "\n",
       "          freq  \n",
       "r_or_f   23502  \n",
       "title       14  \n",
       "text       627  \n",
       "subject  11272  \n",
       "date       197  "
      ]
     },
     "execution_count": 9,
     "metadata": {},
     "output_type": "execute_result"
    }
   ],
   "source": [
    "# There are some duplicate texts, blanks, and ones with one space.\n",
    "news.describe().transpose()"
   ]
  },
  {
   "cell_type": "code",
   "execution_count": 10,
   "metadata": {},
   "outputs": [],
   "source": [
    "# Dropped null values, title-only rows, and duplicates\n",
    "news.dropna(inplace=True)\n",
    "news = news[news.text != ' ']\n",
    "news = news.drop_duplicates(subset='text', keep='last')"
   ]
  },
  {
   "cell_type": "code",
   "execution_count": 11,
   "metadata": {},
   "outputs": [
    {
     "data": {
      "text/html": [
       "<div>\n",
       "<style scoped>\n",
       "    .dataframe tbody tr th:only-of-type {\n",
       "        vertical-align: middle;\n",
       "    }\n",
       "\n",
       "    .dataframe tbody tr th {\n",
       "        vertical-align: top;\n",
       "    }\n",
       "\n",
       "    .dataframe thead th {\n",
       "        text-align: right;\n",
       "    }\n",
       "</style>\n",
       "<table border=\"1\" class=\"dataframe\">\n",
       "  <thead>\n",
       "    <tr style=\"text-align: right;\">\n",
       "      <th></th>\n",
       "      <th>count</th>\n",
       "      <th>unique</th>\n",
       "      <th>top</th>\n",
       "      <th>freq</th>\n",
       "    </tr>\n",
       "  </thead>\n",
       "  <tbody>\n",
       "    <tr>\n",
       "      <th>r_or_f</th>\n",
       "      <td>38645</td>\n",
       "      <td>2</td>\n",
       "      <td>Real</td>\n",
       "      <td>21191</td>\n",
       "    </tr>\n",
       "    <tr>\n",
       "      <th>title</th>\n",
       "      <td>38645</td>\n",
       "      <td>38269</td>\n",
       "      <td>Factbox: Trump fills top jobs for his administ...</td>\n",
       "      <td>14</td>\n",
       "    </tr>\n",
       "    <tr>\n",
       "      <th>text</th>\n",
       "      <td>38645</td>\n",
       "      <td>38645</td>\n",
       "      <td>Here s what Politico s headline today looked l...</td>\n",
       "      <td>1</td>\n",
       "    </tr>\n",
       "    <tr>\n",
       "      <th>subject</th>\n",
       "      <td>38645</td>\n",
       "      <td>19</td>\n",
       "      <td>politicsNews</td>\n",
       "      <td>11202</td>\n",
       "    </tr>\n",
       "    <tr>\n",
       "      <th>date</th>\n",
       "      <td>38645</td>\n",
       "      <td>1027</td>\n",
       "      <td>6-Dec-17</td>\n",
       "      <td>177</td>\n",
       "    </tr>\n",
       "  </tbody>\n",
       "</table>\n",
       "</div>"
      ],
      "text/plain": [
       "         count unique                                                top  \\\n",
       "r_or_f   38645      2                                               Real   \n",
       "title    38645  38269  Factbox: Trump fills top jobs for his administ...   \n",
       "text     38645  38645  Here s what Politico s headline today looked l...   \n",
       "subject  38645     19                                       politicsNews   \n",
       "date     38645   1027                                           6-Dec-17   \n",
       "\n",
       "          freq  \n",
       "r_or_f   21191  \n",
       "title       14  \n",
       "text         1  \n",
       "subject  11202  \n",
       "date       177  "
      ]
     },
     "execution_count": 11,
     "metadata": {},
     "output_type": "execute_result"
    }
   ],
   "source": [
    "# 38645 articles remain\n",
    "news.describe().transpose()"
   ]
  },
  {
   "cell_type": "markdown",
   "metadata": {},
   "source": [
    "## Part 2: Text preprocessing"
   ]
  },
  {
   "cell_type": "code",
   "execution_count": 2,
   "metadata": {},
   "outputs": [],
   "source": [
    "# Packages for removing punctuation, stopwords, non-ASCII characters\n",
    "import string\n",
    "from nltk.corpus import stopwords\n",
    "import re"
   ]
  },
  {
   "cell_type": "code",
   "execution_count": 3,
   "metadata": {},
   "outputs": [],
   "source": [
    "# Combining non-ascii, punctuation, and stopword removal\n",
    "def text_process(text):\n",
    "    \"\"\"\n",
    "    1. remove non-ascii characters (â, €, ™, œ)\n",
    "    2. remove punctuation\n",
    "    3. remove stop words\n",
    "    4. return list of lowercase clean text words\n",
    "    \"\"\"\n",
    "    ascii_only = re.sub(r'[^\\x00-\\x7f]',r'', text)\n",
    "    \n",
    "    nopunc = [char for char in ascii_only if char not in string.punctuation]\n",
    "    \n",
    "    nopunc = ''.join(nopunc)\n",
    "    \n",
    "    return [word.lower() for word in nopunc.split() if word.lower() not in stopwords.words('english')]"
   ]
  },
  {
   "cell_type": "code",
   "execution_count": 12,
   "metadata": {},
   "outputs": [
    {
     "name": "stdout",
     "output_type": "stream",
     "text": [
      "WASHINGTON (Reuters) - The head of a conservative Republican faction in the U.S. Congress, who voted this month for a huge expansion of the national debt to pay for tax cuts, called himself a â€œfiscal conservativeâ€ on Sunday and urged budget restraint in 2018. In keeping with a sharp pivot under way among Republicans, U.S. Representative Mark Meadows, speaking on CBSâ€™ â€œFace the Nation,â€ drew a hard line on federal spending, which lawmakers are bracing to do battle over in January. When \n",
      "__________________________________________________\n",
      "['washington', 'reuters', 'head', 'conservative', 'republican', 'faction', 'us', 'congress', 'voted', 'month', 'huge', 'expansion', 'national', 'debt', 'pay', 'tax', 'cuts', 'called', 'fiscal', 'conservative', 'sunday', 'urged', 'budget', 'restraint', '2018', 'keeping', 'sharp', 'pivot', 'way', 'among', 'republicans', 'us', 'representative', 'mark', 'meadows', 'speaking', 'cbs', 'face', 'nation', 'drew', 'hard', 'line', 'federal', 'spending', 'lawmakers', 'bracing', 'battle', 'january', 'return', 'holidays', 'wednesday', 'lawmakers', 'begin', 'trying', 'pass', 'federal', 'budget', 'fight', 'likely', 'linked', 'issues', 'immigration', 'policy', 'even', 'november', 'congressional', 'election', 'campaigns', 'approach', 'republicans', 'seek', 'keep', 'control', 'congress', 'president', 'donald', 'trump', 'republicans', 'want', 'big', 'budget', 'increase', 'military', 'spending', 'democrats', 'also', 'want', 'proportional', 'increases', 'nondefense', 'discretionary', 'spending', 'programs', 'support', 'education', 'scientific', 'research', 'infrastructure', 'public', 'health']\n"
     ]
    }
   ],
   "source": [
    "# Using text_process\n",
    "print(news.loc[[0]]['text'].iloc[0][:500])\n",
    "has_dirty = news.loc[[0]]['text'].iloc[0]\n",
    "print('_' * 50)\n",
    "\n",
    "no_dirty = text_process(has_dirty)\n",
    "print(no_dirty[:100])"
   ]
  },
  {
   "cell_type": "markdown",
   "metadata": {},
   "source": [
    "## Part 3: Model creation"
   ]
  },
  {
   "cell_type": "code",
   "execution_count": 5,
   "metadata": {},
   "outputs": [],
   "source": [
    "# Import functions needed for model creation\n",
    "from sklearn.model_selection import train_test_split\n",
    "from sklearn.feature_extraction.text import CountVectorizer\n",
    "from sklearn.feature_extraction.text import TfidfTransformer\n",
    "from sklearn.naive_bayes import MultinomialNB"
   ]
  },
  {
   "cell_type": "code",
   "execution_count": 14,
   "metadata": {},
   "outputs": [],
   "source": [
    "# Train test split\n",
    "X_train, X_test, y_train, y_test = train_test_split(news['text'], news['r_or_f'], test_size=0.3, random_state=42)"
   ]
  },
  {
   "cell_type": "code",
   "execution_count": 14,
   "metadata": {},
   "outputs": [],
   "source": [
    "# Bag of words transformer\n",
    "bow_transformer = CountVectorizer(analyzer=text_process).fit(X_train)\n",
    "pickle.dump(bow_transformer, open('bowtransformer.sav', 'wb'))"
   ]
  },
  {
   "cell_type": "code",
   "execution_count": 15,
   "metadata": {
    "scrolled": false
   },
   "outputs": [
    {
     "name": "stdout",
     "output_type": "stream",
     "text": [
      "  (0, 387)\t2\n",
      "  (0, 759)\t1\n",
      "  (0, 1655)\t2\n",
      "  (0, 2977)\t1\n",
      "  (0, 6030)\t3\n",
      "  (0, 7292)\t1\n",
      "  (0, 8322)\t1\n",
      "  (0, 9344)\t1\n",
      "  (0, 9824)\t2\n",
      "  (0, 10332)\t1\n",
      "  (0, 12303)\t1\n",
      "  (0, 12592)\t1\n",
      "  (0, 12912)\t2\n",
      "  (0, 14232)\t1\n",
      "  (0, 14422)\t3\n",
      "  (0, 14439)\t1\n",
      "  (0, 16101)\t1\n",
      "  (0, 16224)\t3\n",
      "  (0, 17108)\t2\n",
      "  (0, 19196)\t1\n",
      "  (0, 19240)\t1\n",
      "  (0, 20100)\t1\n",
      "  (0, 20776)\t1\n",
      "  (0, 20778)\t1\n",
      "  (0, 22429)\t1\n",
      "  :\t:\n",
      "  (0, 169339)\t1\n",
      "  (0, 170350)\t1\n",
      "  (0, 170392)\t4\n",
      "  (0, 170541)\t1\n",
      "  (0, 173118)\t3\n",
      "  (0, 173246)\t1\n",
      "  (0, 173740)\t2\n",
      "  (0, 173905)\t2\n",
      "  (0, 173935)\t2\n",
      "  (0, 174321)\t2\n",
      "  (0, 174782)\t1\n",
      "  (0, 175254)\t2\n",
      "  (0, 175341)\t1\n",
      "  (0, 175633)\t1\n",
      "  (0, 175641)\t1\n",
      "  (0, 175956)\t1\n",
      "  (0, 176112)\t1\n",
      "  (0, 176442)\t1\n",
      "  (0, 176920)\t1\n",
      "  (0, 177020)\t1\n",
      "  (0, 178117)\t1\n",
      "  (0, 178588)\t3\n",
      "  (0, 179740)\t3\n",
      "  (0, 180053)\t1\n",
      "  (0, 180363)\t1\n"
     ]
    }
   ],
   "source": [
    "# Example bag of words\n",
    "print(bow_transformer.transform([news['text'][0]]))\n",
    "bow0 = bow_transformer.transform([news['text'][0]])"
   ]
  },
  {
   "cell_type": "code",
   "execution_count": 74,
   "metadata": {},
   "outputs": [
    {
     "data": {
      "text/plain": [
       "'young'"
      ]
     },
     "execution_count": 74,
     "metadata": {},
     "output_type": "execute_result"
    }
   ],
   "source": [
    "# Each index corresponds to a word\n",
    "bow_transformer.get_feature_names()[180363]"
   ]
  },
  {
   "cell_type": "code",
   "execution_count": 17,
   "metadata": {},
   "outputs": [],
   "source": [
    "# Transform articles to bag of words\n",
    "news_bow = bow_transformer.transform(X_train)"
   ]
  },
  {
   "cell_type": "code",
   "execution_count": 18,
   "metadata": {},
   "outputs": [],
   "source": [
    "# TF/IDF using sklearn's TF/IDF transformer\n",
    "tfidf_transformer = TfidfTransformer().fit(news_bow)\n",
    "pickle.dump(tfidf_transformer, open('tfidf.sav', 'wb'))"
   ]
  },
  {
   "cell_type": "code",
   "execution_count": 17,
   "metadata": {},
   "outputs": [
    {
     "name": "stdout",
     "output_type": "stream",
     "text": [
      "  (0, 180363)\t0.030398092116573194\n",
      "  (0, 180053)\t0.02507976965994357\n",
      "  (0, 179740)\t0.055917615413592185\n",
      "  (0, 178588)\t0.03847459421928776\n",
      "  (0, 178117)\t0.022394946098048887\n",
      "  (0, 177020)\t0.03447643169921871\n",
      "  (0, 176920)\t0.05968381256106408\n",
      "  (0, 176442)\t0.018808504605152165\n",
      "  (0, 176112)\t0.04299722265365182\n",
      "  (0, 175956)\t0.025790498157697968\n",
      "  (0, 175641)\t0.020691617802734985\n",
      "  (0, 175633)\t0.044023615138644896\n",
      "  (0, 175341)\t0.03466611673066019\n",
      "  (0, 175254)\t0.042664344437372256\n",
      "  (0, 174782)\t0.02033783836023155\n",
      "  (0, 174321)\t0.03548973022182632\n",
      "  (0, 173935)\t0.053551113762988586\n",
      "  (0, 173905)\t0.04312838989445077\n",
      "  (0, 173740)\t0.05951951240054764\n",
      "  (0, 173246)\t0.030483034865893\n",
      "  (0, 173118)\t0.09430776808992423\n",
      "  (0, 170541)\t0.024025309812115092\n",
      "  (0, 170392)\t0.05196480534995552\n",
      "  (0, 170350)\t0.031953636130520366\n",
      "  (0, 169339)\t0.017689091058032687\n",
      "  :\t:\n",
      "  (0, 22429)\t0.01995387902988239\n",
      "  (0, 20778)\t0.038192101852072086\n",
      "  (0, 20776)\t0.04862866268324909\n",
      "  (0, 20100)\t0.046817559875251664\n",
      "  (0, 19240)\t0.03954035773521381\n",
      "  (0, 19196)\t0.03522523508447049\n",
      "  (0, 17108)\t0.04969768751391476\n",
      "  (0, 16224)\t0.04303185602536181\n",
      "  (0, 16101)\t0.02412831617067655\n",
      "  (0, 14439)\t0.03685948068240288\n",
      "  (0, 14422)\t0.10419116389347248\n",
      "  (0, 14232)\t0.04750177128326571\n",
      "  (0, 12912)\t0.043585761899715934\n",
      "  (0, 12592)\t0.037596612279297184\n",
      "  (0, 12303)\t0.02745724841592851\n",
      "  (0, 10332)\t0.05220482744083437\n",
      "  (0, 9824)\t0.06946077592898164\n",
      "  (0, 9344)\t0.034964366627300285\n",
      "  (0, 8322)\t0.04278643863813393\n",
      "  (0, 7292)\t0.030220613442627702\n",
      "  (0, 6030)\t0.10138042098931317\n",
      "  (0, 2977)\t0.02750076985975214\n",
      "  (0, 1655)\t0.05953897936414593\n",
      "  (0, 759)\t0.03141182288136032\n",
      "  (0, 387)\t0.0551623953904944\n"
     ]
    }
   ],
   "source": [
    "# Example of TF/IDF weight value for each word vs actual document\n",
    "print(tfidf_transformer.transform(bow0))"
   ]
  },
  {
   "cell_type": "code",
   "execution_count": 20,
   "metadata": {},
   "outputs": [],
   "source": [
    "# Transform train set\n",
    "news_tfidf = tfidf_transformer.transform(news_bow)"
   ]
  },
  {
   "cell_type": "code",
   "execution_count": 21,
   "metadata": {},
   "outputs": [],
   "source": [
    "# Now messages are vectorized, create naive bayes model\n",
    "real_fake_model = MultinomialNB().fit(news_tfidf, y_train)\n",
    "pickle.dump(real_fake_model, open('real_fake_model.sav', 'wb'))"
   ]
  },
  {
   "cell_type": "code",
   "execution_count": 20,
   "metadata": {},
   "outputs": [
    {
     "data": {
      "text/plain": [
       "b'Real'"
      ]
     },
     "execution_count": 20,
     "metadata": {},
     "output_type": "execute_result"
    }
   ],
   "source": [
    "# Predict an article--bad practice since this is from train set.\n",
    "# To predict a test set article, we'd have to preprocess it first\n",
    "# Can streamline process with data pipeline\n",
    "real_fake_model.predict(bow0)[0]"
   ]
  },
  {
   "cell_type": "markdown",
   "metadata": {},
   "source": [
    "## Part 4: Data pipeline"
   ]
  },
  {
   "cell_type": "code",
   "execution_count": 6,
   "metadata": {},
   "outputs": [],
   "source": [
    "# Create data pipeline to streamline process\n",
    "from sklearn.pipeline import Pipeline"
   ]
  },
  {
   "cell_type": "code",
   "execution_count": 13,
   "metadata": {},
   "outputs": [],
   "source": [
    "# Label, algorithm\n",
    "pipeline = Pipeline([\n",
    "    ('bow',CountVectorizer(analyzer=text_process)),\n",
    "    ('tfidf',TfidfTransformer()),\n",
    "    ('classifier',MultinomialNB())\n",
    "])"
   ]
  },
  {
   "cell_type": "code",
   "execution_count": 14,
   "metadata": {},
   "outputs": [
    {
     "data": {
      "text/plain": [
       "Pipeline(memory=None,\n",
       "     steps=[('bow', CountVectorizer(analyzer=<function text_process at 0x7f506a2017d0>,\n",
       "        binary=False, decode_error=u'strict', dtype=<type 'numpy.int64'>,\n",
       "        encoding=u'utf-8', input=u'content', lowercase=True, max_df=1.0,\n",
       "        max_features=None, min_df=1, ngram_range=(1, 1), preprocessor=...         use_idf=True)), ('classifier', MultinomialNB(alpha=1.0, class_prior=None, fit_prior=True))])"
      ]
     },
     "execution_count": 14,
     "metadata": {},
     "output_type": "execute_result"
    }
   ],
   "source": [
    "# Pipeline is an estimator, fits and trains in one line\n",
    "# Again, takes a while even for 500 articles only\n",
    "pipeline.fit(X_train,y_train)"
   ]
  },
  {
   "cell_type": "code",
   "execution_count": 26,
   "metadata": {},
   "outputs": [],
   "source": [
    "# Test on test set\n",
    "predictions = pipeline.predict(X_test)"
   ]
  },
  {
   "cell_type": "code",
   "execution_count": 64,
   "metadata": {},
   "outputs": [],
   "source": [
    "# classification report\n",
    "from sklearn.metrics import classification_report, confusion_matrix"
   ]
  },
  {
   "cell_type": "code",
   "execution_count": 60,
   "metadata": {},
   "outputs": [
    {
     "name": "stdout",
     "output_type": "stream",
     "text": [
      "               precision      recall    f1-score   support\n",
      "\n",
      "        Fake        0.98        0.85        0.91      5256\n",
      "        Real        0.89        0.99        0.94      6338\n",
      "\n",
      "    accuracy                                0.92     11594\n",
      "   macro avg        0.93        0.92        0.92     11594\n",
      "weighted avg        0.93        0.92        0.92     11594\n"
     ]
    }
   ],
   "source": [
    "# Accuracy of 92%\n",
    "print(classification_report(y_test,predictions))"
   ]
  },
  {
   "cell_type": "code",
   "execution_count": 66,
   "metadata": {},
   "outputs": [
    {
     "name": "stdout",
     "output_type": "stream",
     "text": [
      "[[4460   796]\n",
      " [  64  6274]]\n"
     ]
    }
   ],
   "source": [
    "# Look towards minimizing false negatives\n",
    "print(confusion_matrix(y_test,predictions))"
   ]
  },
  {
   "cell_type": "markdown",
   "metadata": {},
   "source": [
    "## Part 5: Save model"
   ]
  },
  {
   "cell_type": "code",
   "execution_count": 5,
   "metadata": {},
   "outputs": [],
   "source": [
    "filename = 'naivepipeline.sav'"
   ]
  },
  {
   "cell_type": "code",
   "execution_count": 16,
   "metadata": {},
   "outputs": [],
   "source": [
    "# Save model\n",
    "pickle.dump(pipeline, open(filename, 'wb'))"
   ]
  },
  {
   "cell_type": "code",
   "execution_count": 6,
   "metadata": {
    "collapsed": true
   },
   "outputs": [
    {
     "ename": "UnicodeDecodeError",
     "evalue": "'ascii' codec can't decode byte 0xe3 in position 0: ordinal not in range(128)",
     "output_type": "error",
     "traceback": [
      "\u001b[1;31m---------------------------------------------------------------------------\u001b[0m",
      "\u001b[1;31mUnicodeDecodeError\u001b[0m                        Traceback (most recent call last)",
      "\u001b[1;32m<ipython-input-6-efe3ce369abd>\u001b[0m in \u001b[0;36m<module>\u001b[1;34m\u001b[0m\n\u001b[0;32m      1\u001b[0m \u001b[1;31m# Load model\u001b[0m\u001b[1;33m\u001b[0m\u001b[1;33m\u001b[0m\u001b[1;33m\u001b[0m\u001b[0m\n\u001b[1;32m----> 2\u001b[1;33m \u001b[0mpipeline\u001b[0m \u001b[1;33m=\u001b[0m \u001b[0mpickle\u001b[0m\u001b[1;33m.\u001b[0m\u001b[0mload\u001b[0m\u001b[1;33m(\u001b[0m\u001b[0mopen\u001b[0m\u001b[1;33m(\u001b[0m\u001b[0mfilename\u001b[0m\u001b[1;33m,\u001b[0m \u001b[1;34m'rb'\u001b[0m\u001b[1;33m)\u001b[0m\u001b[1;33m)\u001b[0m\u001b[1;33m\u001b[0m\u001b[1;33m\u001b[0m\u001b[0m\n\u001b[0m",
      "\u001b[1;31mUnicodeDecodeError\u001b[0m: 'ascii' codec can't decode byte 0xe3 in position 0: ordinal not in range(128)"
     ]
    }
   ],
   "source": [
    "# Load model\n",
    "# pipeline = pickle.load(open(filename, 'rb'))"
   ]
  },
  {
   "cell_type": "markdown",
   "metadata": {},
   "source": [
    "## Part 6: Predict novel article"
   ]
  },
  {
   "cell_type": "code",
   "execution_count": 11,
   "metadata": {},
   "outputs": [
    {
     "name": "stdout",
     "output_type": "stream",
     "text": [
      "Please enter article: This is a rapidly evolving situation. The information in this story was last updated at 3 p.m. on Nov. 29. How many cases? The Durham Region Health Department reported 21 new cases of COVID-19 on Nov. 29. There are 218 active cases and a total of 28,107 cases have been reported since the start of the pandemic. How many cases are resolved? In Durham, 27,500 cases of COVID-19 are resolved. How many are hospitalized? In Durham there are six patients hospitalized with COVID-19 as of Nov. 29, one of whom is in intensive care. How many have died? Durham has reported 389 deaths from COVID-19 as of Nov. 29 -- 227 of the total deaths in Durham were residents of long-term care or retirement homes.\n",
      "\n",
      "Real: 80.86% \n",
      "Fake: 19.14%\n",
      "\n",
      "Result: 'Real'\n"
     ]
    }
   ],
   "source": [
    "new_article = [input(\"Please enter article: \")]\n",
    "score = pipeline.predict_proba(new_article)[0][0]\n",
    "real_score = round((1-score)*100.0,2)\n",
    "fake_score = round((score)*100.0,2)\n",
    "print(f\"\\nReal: {real_score}% \\nFake: {fake_score}%\")\n",
    "print(f\"\\nResult: {str(pipeline.predict(new_article)[0])[1:]}\")"
   ]
  },
  {
   "cell_type": "markdown",
   "metadata": {},
   "source": [
    "### Article 1\n",
    "Caught in a sticky situation, Canada is tapping into its maple syrup reserves.\n",
    "The Quebec Maple Syrup Producers said it will release about 50 million pounds from its strategic maple syrup reserves — nearly half its stockpile — in an effort to overcome a global shortage.\n",
    "The shortage is being blamed on less-than-ideal weather conditions. An unusually short and warm spring soured what is typically a sweet harvest.\n",
    "“That’s why the reserve is made, to never miss maple syrup,” spokesperson Helene Normandin, of the  Maple Syrup Producers, told NPR.\n",
    "The government-supported organization uses its reserves to control syrup prices and supply. As of 2020, Quebec produced 73% of all maple syrup in the world.\n",
    "Its biggest customer of liquid gold is the U.S., which accounts for about 60% of Canada’s export volume.\n",
    "Historically, 2021 was an average year for maple production in Quebec. An estimated 133 million pounds were harvested but sales rose to 21% compared to last year, creating the supply shortage.\n",
    "\n",
    "### Article 2\n",
    "OTTAWA – An independent study tracking how our elected Members of Parliament spend their day has found that, in average work week, the majority of an MPs time is spent sitting at their desk, thinking about how, when and where they would punch Pierre Poilievre right in the face.\n",
    "“Going in we assumed MPs spend most of their time considering legislation or doing work for their constituents,” said lead researcher Dr. Helen Paley. “But turns out it’s just imagining what it must feel like to interrupt one of his preening speeches and sock him in the kisser.”\n",
    "“Plus of course imagining what cool line they would say right after, like ‘maybe you won’t sound so nasal now’ or ‘the CBC says hello’.”\n",
    "There were some differences amongst the parties. NDP and Liberal MPs spend nearly 60% of their day thinking about hitting Poilievre, while Conservative MPs spend only 51%. However, in the case of Conservative Party Leader Erin O’Toole, the number often reaches as high as 98%.\n",
    "“I would never physically strike a fellow member of parliament, let’s be clear about that,” said one MP who wished to go unnamed. “But I can’t deny that when we’re in Question Period or a committee hearing I sometimes let my mind wander and it always ends up in the same place. My foot up his ass.”\n",
    "The MP then adapted a wistful expression and his eyes unfocused as he looked off, clearly taking a moment. “Stay down Pierre,” he whispered to himself as a big smile broke out across his face.\n",
    "The study also found that MPs spend a quarter of their day trying to figure out who cooked fish in the Parliamentary Microwave.\n",
    "\n",
    "### Article 3\n",
    "This is a rapidly evolving situation. The information in this story was last updated at 3 p.m. on Nov. 29.\n",
    "How many cases?\n",
    "The Durham Region Health Department reported 21 new cases of COVID-19 on Nov. 29. There are 218 active cases and a total of 28,107 cases have been reported since the start of the pandemic. \n",
    "How many cases are resolved?\n",
    "In Durham, 27,500 cases of COVID-19 are resolved.\n",
    "How many are hospitalized?\n",
    "In Durham there are six patients hospitalized with COVID-19 as of Nov. 29, one of whom is in intensive care.\n",
    "How many have died?\n",
    "Durham has reported 389 deaths from COVID-19 as of Nov. 29 -- 227 of the total deaths in Durham were residents of long-term care or retirement homes. "
   ]
  },
  {
   "cell_type": "markdown",
   "metadata": {},
   "source": [
    "## Future Direction"
   ]
  },
  {
   "cell_type": "code",
   "execution_count": 51,
   "metadata": {},
   "outputs": [],
   "source": [
    "# Add new columns for length of text and number of words\n",
    "news['word_length'] = news['text'].apply(lambda x: len(x.split()))"
   ]
  },
  {
   "cell_type": "code",
   "execution_count": 52,
   "metadata": {},
   "outputs": [
    {
     "data": {
      "text/html": [
       "<div>\n",
       "<style scoped>\n",
       "    .dataframe tbody tr th:only-of-type {\n",
       "        vertical-align: middle;\n",
       "    }\n",
       "\n",
       "    .dataframe tbody tr th {\n",
       "        vertical-align: top;\n",
       "    }\n",
       "\n",
       "    .dataframe thead th {\n",
       "        text-align: right;\n",
       "    }\n",
       "</style>\n",
       "<table border=\"1\" class=\"dataframe\">\n",
       "  <thead>\n",
       "    <tr style=\"text-align: right;\">\n",
       "      <th></th>\n",
       "      <th>word_length</th>\n",
       "    </tr>\n",
       "    <tr>\n",
       "      <th>r_or_f</th>\n",
       "      <th></th>\n",
       "    </tr>\n",
       "  </thead>\n",
       "  <tbody>\n",
       "    <tr>\n",
       "      <th>Fake</th>\n",
       "      <td>421.207631</td>\n",
       "    </tr>\n",
       "    <tr>\n",
       "      <th>Real</th>\n",
       "      <td>384.979944</td>\n",
       "    </tr>\n",
       "  </tbody>\n",
       "</table>\n",
       "</div>"
      ],
      "text/plain": [
       "        word_length\n",
       "r_or_f             \n",
       "Fake     421.207631\n",
       "Real     384.979944"
      ]
     },
     "execution_count": 52,
     "metadata": {},
     "output_type": "execute_result"
    }
   ],
   "source": [
    "# Fake news is generally longer both in character length and word count\n",
    "news.groupby('r_or_f').mean()"
   ]
  },
  {
   "cell_type": "code",
   "execution_count": 49,
   "metadata": {},
   "outputs": [
    {
     "data": {
      "text/plain": [
       "array([<matplotlib.axes._subplots.AxesSubplot object at 0x000001FD204600A0>,\n",
       "       <matplotlib.axes._subplots.AxesSubplot object at 0x000001FD21109DF0>],\n",
       "      dtype=object)"
      ]
     },
     "execution_count": 49,
     "metadata": {},
     "output_type": "execute_result"
    },
    {
     "data": {
      "image/png": "[encoded data removed]",
      "text/plain": [
       "<Figure size 864x288 with 2 Axes>"
      ]
     },
     "metadata": {
      "needs_background": "light"
     },
     "output_type": "display_data"
    }
   ],
   "source": [
    "# Side-by-side histograms for word_length\n",
    "# Both seem to have a bimodal distribution\n",
    "# Can see more clearly that fake news is longer\n",
    "inlier_news.hist(column='word_length',by='r_or_f',bins=50,figsize=(12,4))"
   ]
  },
  {
   "cell_type": "code",
   "execution_count": null,
   "metadata": {},
   "outputs": [],
   "source": []
  }
 ],
 "metadata": {
  "kernelspec": {
   "display_name": "Python 3",
   "language": "python",
   "name": "python3"
  },
  "language_info": {
   "codemirror_mode": {
    "name": "ipython",
    "version": 3
   },
   "file_extension": ".py",
   "mimetype": "text/x-python",
   "name": "python",
   "nbconvert_exporter": "python",
   "pygments_lexer": "ipython3",
   "version": "3.8.3"
  }
 },
 "nbformat": 4,
 "nbformat_minor": 4
}
